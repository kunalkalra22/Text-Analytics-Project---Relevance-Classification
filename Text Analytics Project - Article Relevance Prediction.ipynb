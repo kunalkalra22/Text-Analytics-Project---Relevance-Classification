{
 "cells": [
  {
   "cell_type": "code",
   "execution_count": 3,
   "metadata": {},
   "outputs": [
    {
     "name": "stderr",
     "output_type": "stream",
     "text": [
      "[nltk_data] Downloading package stopwords to\n",
      "[nltk_data]     C:\\Users\\K2\\AppData\\Roaming\\nltk_data...\n",
      "[nltk_data]   Package stopwords is already up-to-date!\n"
     ]
    },
    {
     "ename": "ModuleNotFoundError",
     "evalue": "No module named 'tensorflow'",
     "output_type": "error",
     "traceback": [
      "\u001b[1;31m---------------------------------------------------------------------------\u001b[0m",
      "\u001b[1;31mModuleNotFoundError\u001b[0m                       Traceback (most recent call last)",
      "\u001b[1;32m<ipython-input-3-c7e27bd15ddd>\u001b[0m in \u001b[0;36m<module>\u001b[1;34m\u001b[0m\n\u001b[0;32m     20\u001b[0m \u001b[1;32mfrom\u001b[0m \u001b[0msklearn\u001b[0m \u001b[1;32mimport\u001b[0m \u001b[0msvm\u001b[0m\u001b[1;33m\u001b[0m\u001b[1;33m\u001b[0m\u001b[0m\n\u001b[0;32m     21\u001b[0m \u001b[1;32mimport\u001b[0m \u001b[0mxgboost\u001b[0m \u001b[1;32mas\u001b[0m \u001b[0mxgb\u001b[0m\u001b[1;33m\u001b[0m\u001b[1;33m\u001b[0m\u001b[0m\n\u001b[1;32m---> 22\u001b[1;33m \u001b[1;32mimport\u001b[0m \u001b[0mtensorflow\u001b[0m \u001b[1;32mas\u001b[0m \u001b[0mtf\u001b[0m\u001b[1;33m\u001b[0m\u001b[1;33m\u001b[0m\u001b[0m\n\u001b[0m\u001b[0;32m     23\u001b[0m \u001b[1;32mfrom\u001b[0m \u001b[0mtensorflow\u001b[0m\u001b[1;33m.\u001b[0m\u001b[0mkeras\u001b[0m\u001b[1;33m.\u001b[0m\u001b[0mmodels\u001b[0m \u001b[1;32mimport\u001b[0m \u001b[0mSequential\u001b[0m\u001b[1;33m\u001b[0m\u001b[1;33m\u001b[0m\u001b[0m\n\u001b[0;32m     24\u001b[0m \u001b[1;32mfrom\u001b[0m \u001b[0mtensorflow\u001b[0m\u001b[1;33m.\u001b[0m\u001b[0mkeras\u001b[0m\u001b[1;33m.\u001b[0m\u001b[0mlayers\u001b[0m \u001b[1;32mimport\u001b[0m \u001b[0mDense\u001b[0m\u001b[1;33m\u001b[0m\u001b[1;33m\u001b[0m\u001b[0m\n",
      "\u001b[1;31mModuleNotFoundError\u001b[0m: No module named 'tensorflow'"
     ]
    }
   ],
   "source": [
    "import numpy as np\n",
    "import pandas as pd\n",
    "from sklearn.model_selection import train_test_split\n",
    "#import xgboost as xgb\n",
    "from sklearn.model_selection import GridSearchCV\n",
    "import re\n",
    "import nltk\n",
    "nltk.download('stopwords')\n",
    "from nltk.tokenize import RegexpTokenizer\n",
    "from nltk.corpus import stopwords\n",
    "from nltk.stem import PorterStemmer\n",
    "from sklearn.feature_extraction.text import CountVectorizer\n",
    "from sklearn.linear_model import LogisticRegression\n",
    "from sklearn.metrics import accuracy_score\n",
    "from sklearn.metrics import recall_score\n",
    "from sklearn.metrics import precision_score\n",
    "from sklearn.metrics import f1_score\n",
    "from sklearn.ensemble import RandomForestClassifier\n",
    "from sklearn.tree import DecisionTreeClassifier\n",
    "from sklearn import svm\n",
    "import xgboost as xgb\n",
    "import tensorflow as tf\n",
    "from tensorflow.keras.models import Sequential\n",
    "from tensorflow.keras.layers import Dense\n",
    "from tensorflow.keras.layers import Dropout\n",
    "from tensorflow.keras.layers import Flatten,Activation,Embedding,LSTM, Conv2D, MaxPooling2D\n",
    "import matplotlib.pyplot as plt\n",
    "\n",
    "# from keras.utils import np_utils\n",
    "# from keras import backend as K\n",
    "# import keras.backend.tensorflow_backend as tfback\n",
    "# K.common.set_image_dim_ordering(\"th\")\n",
    "# seed = 7\n",
    "\n",
    "# def _get_available_gpus():  \n",
    "\n",
    "#     if tfback._LOCAL_DEVICES is None:  \n",
    "#         devices = tf.config.list_logical_devices()  \n",
    "#         tfback._LOCAL_DEVICES = [x.name for x in devices]  \n",
    "#     return [x for x in tfback._LOCAL_DEVICES if 'device:gpu' in x.lower()]\n",
    "\n",
    "# tfback._get_available_gpus = _get_available_gpus"
   ]
  },
  {
   "cell_type": "code",
   "execution_count": 2,
   "metadata": {},
   "outputs": [
    {
     "name": "stdout",
     "output_type": "stream",
     "text": [
      "Collecting tensorflow"
     ]
    },
    {
     "name": "stderr",
     "output_type": "stream",
     "text": [
      "ERROR: Could not install packages due to an EnvironmentError: [WinError 5] Access is denied: 'C:\\\\Users\\\\K2\\\\anaconda3\\\\Lib\\\\site-packages\\\\~umpy\\\\core\\\\_multiarray_tests.cp38-win_amd64.pyd'\n",
      "Consider using the `--user` option or check the permissions.\n",
      "\n",
      "WARNING: You are using pip version 20.3.1; however, version 20.3.3 is available.\n",
      "You should consider upgrading via the 'c:\\users\\k2\\anaconda3\\python.exe -m pip install --upgrade pip' command.\n"
     ]
    },
    {
     "name": "stdout",
     "output_type": "stream",
     "text": [
      "\n",
      "  Downloading tensorflow-2.4.0-cp38-cp38-win_amd64.whl (370.7 MB)\n",
      "Requirement already satisfied: h5py~=2.10.0 in c:\\users\\k2\\anaconda3\\lib\\site-packages (from tensorflow) (2.10.0)\n",
      "Requirement already satisfied: wheel~=0.35 in c:\\users\\k2\\anaconda3\\lib\\site-packages (from tensorflow) (0.35.1)\n",
      "Requirement already satisfied: six~=1.15.0 in c:\\users\\k2\\anaconda3\\lib\\site-packages (from tensorflow) (1.15.0)\n",
      "Requirement already satisfied: typing-extensions~=3.7.4 in c:\\users\\k2\\anaconda3\\lib\\site-packages (from tensorflow) (3.7.4.2)\n",
      "Collecting absl-py~=0.10\n",
      "  Downloading absl_py-0.11.0-py3-none-any.whl (127 kB)\n",
      "Requirement already satisfied: six~=1.15.0 in c:\\users\\k2\\anaconda3\\lib\\site-packages (from tensorflow) (1.15.0)\n",
      "Collecting astunparse~=1.6.3\n",
      "  Downloading astunparse-1.6.3-py2.py3-none-any.whl (12 kB)\n",
      "Requirement already satisfied: wheel~=0.35 in c:\\users\\k2\\anaconda3\\lib\\site-packages (from tensorflow) (0.35.1)\n",
      "Requirement already satisfied: six~=1.15.0 in c:\\users\\k2\\anaconda3\\lib\\site-packages (from tensorflow) (1.15.0)\n",
      "Collecting flatbuffers~=1.12.0\n",
      "  Downloading flatbuffers-1.12-py2.py3-none-any.whl (15 kB)\n",
      "Collecting gast==0.3.3\n",
      "  Downloading gast-0.3.3-py2.py3-none-any.whl (9.7 kB)\n",
      "Collecting google-pasta~=0.2\n",
      "  Downloading google_pasta-0.2.0-py3-none-any.whl (57 kB)\n",
      "Requirement already satisfied: six~=1.15.0 in c:\\users\\k2\\anaconda3\\lib\\site-packages (from tensorflow) (1.15.0)\n",
      "Collecting grpcio~=1.32.0\n",
      "  Downloading grpcio-1.32.0-cp38-cp38-win_amd64.whl (2.6 MB)\n",
      "Requirement already satisfied: six~=1.15.0 in c:\\users\\k2\\anaconda3\\lib\\site-packages (from tensorflow) (1.15.0)\n",
      "Requirement already satisfied: six~=1.15.0 in c:\\users\\k2\\anaconda3\\lib\\site-packages (from tensorflow) (1.15.0)\n",
      "Collecting keras-preprocessing~=1.1.2\n",
      "  Downloading Keras_Preprocessing-1.1.2-py2.py3-none-any.whl (42 kB)\n",
      "Requirement already satisfied: six~=1.15.0 in c:\\users\\k2\\anaconda3\\lib\\site-packages (from tensorflow) (1.15.0)\n",
      "Collecting numpy~=1.19.2\n",
      "  Downloading numpy-1.19.5-cp38-cp38-win_amd64.whl (13.3 MB)\n",
      "Collecting opt-einsum~=3.3.0\n",
      "  Downloading opt_einsum-3.3.0-py3-none-any.whl (65 kB)\n",
      "Collecting protobuf>=3.9.2\n",
      "  Downloading protobuf-3.14.0-py2.py3-none-any.whl (173 kB)\n",
      "Requirement already satisfied: six~=1.15.0 in c:\\users\\k2\\anaconda3\\lib\\site-packages (from tensorflow) (1.15.0)\n",
      "Collecting tensorboard~=2.4\n",
      "  Downloading tensorboard-2.4.0-py3-none-any.whl (10.6 MB)\n",
      "Requirement already satisfied: requests<3,>=2.21.0 in c:\\users\\k2\\anaconda3\\lib\\site-packages (from tensorboard~=2.4->tensorflow) (2.24.0)\n",
      "Requirement already satisfied: werkzeug>=0.11.15 in c:\\users\\k2\\anaconda3\\lib\\site-packages (from tensorboard~=2.4->tensorflow) (1.0.1)\n",
      "Requirement already satisfied: setuptools>=41.0.0 in c:\\users\\k2\\anaconda3\\lib\\site-packages (from tensorboard~=2.4->tensorflow) (50.3.2)\n",
      "Requirement already satisfied: wheel~=0.35 in c:\\users\\k2\\anaconda3\\lib\\site-packages (from tensorflow) (0.35.1)\n",
      "Requirement already satisfied: six~=1.15.0 in c:\\users\\k2\\anaconda3\\lib\\site-packages (from tensorflow) (1.15.0)\n",
      "Collecting google-auth<2,>=1.6.3\n",
      "  Downloading google_auth-1.24.0-py2.py3-none-any.whl (114 kB)\n",
      "Requirement already satisfied: six~=1.15.0 in c:\\users\\k2\\anaconda3\\lib\\site-packages (from tensorflow) (1.15.0)\n",
      "Requirement already satisfied: setuptools>=41.0.0 in c:\\users\\k2\\anaconda3\\lib\\site-packages (from tensorboard~=2.4->tensorflow) (50.3.2)\n",
      "Requirement already satisfied: pyasn1-modules>=0.2.1 in c:\\users\\k2\\anaconda3\\lib\\site-packages (from google-auth<2,>=1.6.3->tensorboard~=2.4->tensorflow) (0.2.8)\n",
      "Collecting cachetools<5.0,>=2.0.0\n",
      "  Downloading cachetools-4.2.0-py3-none-any.whl (12 kB)\n",
      "Collecting google-auth-oauthlib<0.5,>=0.4.1\n",
      "  Downloading google_auth_oauthlib-0.4.2-py2.py3-none-any.whl (18 kB)\n",
      "Collecting markdown>=2.6.8\n",
      "  Downloading Markdown-3.3.3-py3-none-any.whl (96 kB)\n",
      "Requirement already satisfied: pyasn1<0.5.0,>=0.4.6 in c:\\users\\k2\\anaconda3\\lib\\site-packages (from pyasn1-modules>=0.2.1->google-auth<2,>=1.6.3->tensorboard~=2.4->tensorflow) (0.4.8)\n",
      "Requirement already satisfied: chardet<4,>=3.0.2 in c:\\users\\k2\\anaconda3\\lib\\site-packages (from requests<3,>=2.21.0->tensorboard~=2.4->tensorflow) (3.0.4)\n",
      "Requirement already satisfied: urllib3!=1.25.0,!=1.25.1,<1.26,>=1.21.1 in c:\\users\\k2\\anaconda3\\lib\\site-packages (from requests<3,>=2.21.0->tensorboard~=2.4->tensorflow) (1.25.9)\n",
      "Requirement already satisfied: idna<3,>=2.5 in c:\\users\\k2\\anaconda3\\lib\\site-packages (from requests<3,>=2.21.0->tensorboard~=2.4->tensorflow) (2.10)\n",
      "Requirement already satisfied: certifi>=2017.4.17 in c:\\users\\k2\\anaconda3\\lib\\site-packages (from requests<3,>=2.21.0->tensorboard~=2.4->tensorflow) (2020.6.20)\n",
      "Collecting requests-oauthlib>=0.7.0\n",
      "  Downloading requests_oauthlib-1.3.0-py2.py3-none-any.whl (23 kB)\n",
      "Requirement already satisfied: requests<3,>=2.21.0 in c:\\users\\k2\\anaconda3\\lib\\site-packages (from tensorboard~=2.4->tensorflow) (2.24.0)\n",
      "Collecting oauthlib>=3.0.0\n",
      "  Downloading oauthlib-3.1.0-py2.py3-none-any.whl (147 kB)\n",
      "Collecting rsa<5,>=3.1.4\n",
      "  Downloading rsa-4.6-py3-none-any.whl (47 kB)\n",
      "Requirement already satisfied: pyasn1<0.5.0,>=0.4.6 in c:\\users\\k2\\anaconda3\\lib\\site-packages (from pyasn1-modules>=0.2.1->google-auth<2,>=1.6.3->tensorboard~=2.4->tensorflow) (0.4.8)\n",
      "Collecting tensorboard-plugin-wit>=1.6.0\n",
      "  Downloading tensorboard_plugin_wit-1.7.0-py3-none-any.whl (779 kB)\n",
      "Collecting tensorflow-estimator<2.5.0,>=2.4.0rc0\n",
      "  Downloading tensorflow_estimator-2.4.0-py2.py3-none-any.whl (462 kB)\n",
      "Collecting termcolor~=1.1.0\n",
      "  Downloading termcolor-1.1.0.tar.gz (3.9 kB)\n",
      "Collecting wrapt~=1.12.1\n",
      "  Downloading wrapt-1.12.1.tar.gz (27 kB)\n",
      "Building wheels for collected packages: termcolor, wrapt\n",
      "  Building wheel for termcolor (setup.py): started\n",
      "  Building wheel for termcolor (setup.py): finished with status 'done'\n",
      "  Created wheel for termcolor: filename=termcolor-1.1.0-py3-none-any.whl size=4835 sha256=ff81544752203f2a824ae59b942eb55dd2915a9efdb65da77f6129fb811dcb04\n",
      "  Stored in directory: c:\\users\\k2\\appdata\\local\\pip\\cache\\wheels\\a0\\16\\9c\\5473df82468f958445479c59e784896fa24f4a5fc024b0f501\n",
      "  Building wheel for wrapt (setup.py): started\n",
      "  Building wheel for wrapt (setup.py): finished with status 'done'\n",
      "  Created wheel for wrapt: filename=wrapt-1.12.1-py3-none-any.whl size=19558 sha256=3c477847c46b8652031515f2ba4c0049a2f74d2fcc81e0efcce7fffae04fd889\n",
      "  Stored in directory: c:\\users\\k2\\appdata\\local\\pip\\cache\\wheels\\5f\\fd\\9e\\b6cf5890494cb8ef0b5eaff72e5d55a70fb56316007d6dfe73\n",
      "Successfully built termcolor wrapt\n",
      "Installing collected packages: rsa, oauthlib, cachetools, requests-oauthlib, google-auth, tensorboard-plugin-wit, protobuf, numpy, markdown, grpcio, google-auth-oauthlib, absl-py, wrapt, termcolor, tensorflow-estimator, tensorboard, opt-einsum, keras-preprocessing, google-pasta, gast, flatbuffers, astunparse, tensorflow\n",
      "  Attempting uninstall: numpy\n",
      "    Found existing installation: numpy 1.18.5\n",
      "    Uninstalling numpy-1.18.5:\n",
      "      Successfully uninstalled numpy-1.18.5\n"
     ]
    }
   ],
   "source": [
    "!pip install tensorflow"
   ]
  },
  {
   "cell_type": "markdown",
   "metadata": {},
   "source": [
    "# Pre-processing"
   ]
  },
  {
   "cell_type": "code",
   "execution_count": 20,
   "metadata": {},
   "outputs": [
    {
     "data": {
      "text/html": [
       "<div>\n",
       "<style scoped>\n",
       "    .dataframe tbody tr th:only-of-type {\n",
       "        vertical-align: middle;\n",
       "    }\n",
       "\n",
       "    .dataframe tbody tr th {\n",
       "        vertical-align: top;\n",
       "    }\n",
       "\n",
       "    .dataframe thead th {\n",
       "        text-align: right;\n",
       "    }\n",
       "</style>\n",
       "<table border=\"1\" class=\"dataframe\">\n",
       "  <thead>\n",
       "    <tr style=\"text-align: right;\">\n",
       "      <th></th>\n",
       "      <th>Content</th>\n",
       "      <th>Label</th>\n",
       "    </tr>\n",
       "  </thead>\n",
       "  <tbody>\n",
       "    <tr>\n",
       "      <th>0</th>\n",
       "      <td>\\n\\n\\n\\n\\n\\nExxact Announces GPU-Accelerated  ...</td>\n",
       "      <td>1</td>\n",
       "    </tr>\n",
       "    <tr>\n",
       "      <th>1</th>\n",
       "      <td>\\n\\n\\n\\n\\n\\nHelix Reports Second Quarter 2009 ...</td>\n",
       "      <td>0</td>\n",
       "    </tr>\n",
       "    <tr>\n",
       "      <th>2</th>\n",
       "      <td>\\n\\n\\n\\n\\n\\nPharmerit Expands Market Access Su...</td>\n",
       "      <td>0</td>\n",
       "    </tr>\n",
       "    <tr>\n",
       "      <th>3</th>\n",
       "      <td>\\n\\n\\n\\n\\n\\nMeredith Invests In Future Of Vide...</td>\n",
       "      <td>1</td>\n",
       "    </tr>\n",
       "    <tr>\n",
       "      <th>4</th>\n",
       "      <td>\\n\\n\\n\\n\\n\\nNet Lease REITs Becoming More Proa...</td>\n",
       "      <td>0</td>\n",
       "    </tr>\n",
       "    <tr>\n",
       "      <th>...</th>\n",
       "      <td>...</td>\n",
       "      <td>...</td>\n",
       "    </tr>\n",
       "    <tr>\n",
       "      <th>4995</th>\n",
       "      <td>\\n\\n\\n\\n\\n\\nPress Release: ThreeD Capital Inc....</td>\n",
       "      <td>0</td>\n",
       "    </tr>\n",
       "    <tr>\n",
       "      <th>4996</th>\n",
       "      <td>\\n\\n\\n\\n\\n\\nroOomy(R) Unveils App for iPhone\\n...</td>\n",
       "      <td>0</td>\n",
       "    </tr>\n",
       "    <tr>\n",
       "      <th>4997</th>\n",
       "      <td>\\n\\n\\n\\n\\n\\nPress Release: Workhorse Group Sig...</td>\n",
       "      <td>1</td>\n",
       "    </tr>\n",
       "    <tr>\n",
       "      <th>4998</th>\n",
       "      <td>\\n\\n\\n\\n\\n\\nDigital Bots Market Size Worth $5,...</td>\n",
       "      <td>0</td>\n",
       "    </tr>\n",
       "    <tr>\n",
       "      <th>4999</th>\n",
       "      <td>\\n\\n\\n\\n\\n\\nWorldwide Anti-Drone Market to be ...</td>\n",
       "      <td>0</td>\n",
       "    </tr>\n",
       "  </tbody>\n",
       "</table>\n",
       "<p>4639 rows × 2 columns</p>\n",
       "</div>"
      ],
      "text/plain": [
       "                                                Content  Label\n",
       "0     \\n\\n\\n\\n\\n\\nExxact Announces GPU-Accelerated  ...      1\n",
       "1     \\n\\n\\n\\n\\n\\nHelix Reports Second Quarter 2009 ...      0\n",
       "2     \\n\\n\\n\\n\\n\\nPharmerit Expands Market Access Su...      0\n",
       "3     \\n\\n\\n\\n\\n\\nMeredith Invests In Future Of Vide...      1\n",
       "4     \\n\\n\\n\\n\\n\\nNet Lease REITs Becoming More Proa...      0\n",
       "...                                                 ...    ...\n",
       "4995  \\n\\n\\n\\n\\n\\nPress Release: ThreeD Capital Inc....      0\n",
       "4996  \\n\\n\\n\\n\\n\\nroOomy(R) Unveils App for iPhone\\n...      0\n",
       "4997  \\n\\n\\n\\n\\n\\nPress Release: Workhorse Group Sig...      1\n",
       "4998  \\n\\n\\n\\n\\n\\nDigital Bots Market Size Worth $5,...      0\n",
       "4999  \\n\\n\\n\\n\\n\\nWorldwide Anti-Drone Market to be ...      0\n",
       "\n",
       "[4639 rows x 2 columns]"
      ]
     },
     "execution_count": 20,
     "metadata": {},
     "output_type": "execute_result"
    }
   ],
   "source": [
    "df = pd.read_excel(\"training_data_new.xlsx\")\n",
    "df = df[['Content', 'Label']]\n",
    "df = df.dropna()\n",
    "dic = {'positive':1, 'negative':0, 'ngative':0, 'positive ':1, 'positve':1,\n",
    "       'negative ':0, 'postive':1, 'Negative':0, 'Positive':1, 1:1, 0:0}\n",
    "df['Label'] = df.Label.apply(lambda x : dic[x])\n",
    "df"
   ]
  },
  {
   "cell_type": "code",
   "execution_count": 21,
   "metadata": {},
   "outputs": [
    {
     "data": {
      "text/plain": [
       "1.926813880126183"
      ]
     },
     "execution_count": 21,
     "metadata": {},
     "output_type": "execute_result"
    }
   ],
   "source": [
    "# negetive/positive ratio  \n",
    "sum(df.Label==0)/sum(df.Label == 1)"
   ]
  },
  {
   "cell_type": "code",
   "execution_count": 24,
   "metadata": {},
   "outputs": [
    {
     "data": {
      "text/html": [
       "<div>\n",
       "<style scoped>\n",
       "    .dataframe tbody tr th:only-of-type {\n",
       "        vertical-align: middle;\n",
       "    }\n",
       "\n",
       "    .dataframe tbody tr th {\n",
       "        vertical-align: top;\n",
       "    }\n",
       "\n",
       "    .dataframe thead th {\n",
       "        text-align: right;\n",
       "    }\n",
       "</style>\n",
       "<table border=\"1\" class=\"dataframe\">\n",
       "  <thead>\n",
       "    <tr style=\"text-align: right;\">\n",
       "      <th></th>\n",
       "      <th>Content</th>\n",
       "      <th>Label</th>\n",
       "    </tr>\n",
       "  </thead>\n",
       "  <tbody>\n",
       "    <tr>\n",
       "      <th>1</th>\n",
       "      <td>\\n\\n\\n\\n\\n\\nHelix Reports Second Quarter 2009 ...</td>\n",
       "      <td>0</td>\n",
       "    </tr>\n",
       "    <tr>\n",
       "      <th>2</th>\n",
       "      <td>\\n\\n\\n\\n\\n\\nPharmerit Expands Market Access Su...</td>\n",
       "      <td>0</td>\n",
       "    </tr>\n",
       "    <tr>\n",
       "      <th>4</th>\n",
       "      <td>\\n\\n\\n\\n\\n\\nNet Lease REITs Becoming More Proa...</td>\n",
       "      <td>0</td>\n",
       "    </tr>\n",
       "    <tr>\n",
       "      <th>6</th>\n",
       "      <td>\\n\\n\\n\\n\\n\\nORBCOMM To Host First Quarter 2016...</td>\n",
       "      <td>0</td>\n",
       "    </tr>\n",
       "    <tr>\n",
       "      <th>7</th>\n",
       "      <td>\\n\\n\\n\\nEXCHANGE --- Markets News -- Commoditi...</td>\n",
       "      <td>0</td>\n",
       "    </tr>\n",
       "    <tr>\n",
       "      <th>...</th>\n",
       "      <td>...</td>\n",
       "      <td>...</td>\n",
       "    </tr>\n",
       "    <tr>\n",
       "      <th>4994</th>\n",
       "      <td>\\n\\n\\n\\n\\n\\nPress Release: Silicon Labs to Pre...</td>\n",
       "      <td>0</td>\n",
       "    </tr>\n",
       "    <tr>\n",
       "      <th>4995</th>\n",
       "      <td>\\n\\n\\n\\n\\n\\nPress Release: ThreeD Capital Inc....</td>\n",
       "      <td>0</td>\n",
       "    </tr>\n",
       "    <tr>\n",
       "      <th>4996</th>\n",
       "      <td>\\n\\n\\n\\n\\n\\nroOomy(R) Unveils App for iPhone\\n...</td>\n",
       "      <td>0</td>\n",
       "    </tr>\n",
       "    <tr>\n",
       "      <th>4998</th>\n",
       "      <td>\\n\\n\\n\\n\\n\\nDigital Bots Market Size Worth $5,...</td>\n",
       "      <td>0</td>\n",
       "    </tr>\n",
       "    <tr>\n",
       "      <th>4999</th>\n",
       "      <td>\\n\\n\\n\\n\\n\\nWorldwide Anti-Drone Market to be ...</td>\n",
       "      <td>0</td>\n",
       "    </tr>\n",
       "  </tbody>\n",
       "</table>\n",
       "<p>3054 rows × 2 columns</p>\n",
       "</div>"
      ],
      "text/plain": [
       "                                                Content  Label\n",
       "1     \\n\\n\\n\\n\\n\\nHelix Reports Second Quarter 2009 ...      0\n",
       "2     \\n\\n\\n\\n\\n\\nPharmerit Expands Market Access Su...      0\n",
       "4     \\n\\n\\n\\n\\n\\nNet Lease REITs Becoming More Proa...      0\n",
       "6     \\n\\n\\n\\n\\n\\nORBCOMM To Host First Quarter 2016...      0\n",
       "7     \\n\\n\\n\\nEXCHANGE --- Markets News -- Commoditi...      0\n",
       "...                                                 ...    ...\n",
       "4994  \\n\\n\\n\\n\\n\\nPress Release: Silicon Labs to Pre...      0\n",
       "4995  \\n\\n\\n\\n\\n\\nPress Release: ThreeD Capital Inc....      0\n",
       "4996  \\n\\n\\n\\n\\n\\nroOomy(R) Unveils App for iPhone\\n...      0\n",
       "4998  \\n\\n\\n\\n\\n\\nDigital Bots Market Size Worth $5,...      0\n",
       "4999  \\n\\n\\n\\n\\n\\nWorldwide Anti-Drone Market to be ...      0\n",
       "\n",
       "[3054 rows x 2 columns]"
      ]
     },
     "execution_count": 24,
     "metadata": {},
     "output_type": "execute_result"
    }
   ],
   "source": [
    "df[df.Label==0]"
   ]
  },
  {
   "cell_type": "code",
   "execution_count": 25,
   "metadata": {},
   "outputs": [
    {
     "data": {
      "text/plain": [
       "1.0"
      ]
     },
     "execution_count": 25,
     "metadata": {},
     "output_type": "execute_result"
    }
   ],
   "source": [
    "# up-sampling \n",
    "df = pd.concat([df,df[df.Label == 1].sample(n = 1469)]) #(3054-1585)\n",
    "sum(df.Label==0)/sum(df.Label == 1)"
   ]
  },
  {
   "cell_type": "code",
   "execution_count": 26,
   "metadata": {},
   "outputs": [],
   "source": [
    "doc = df.Content\n",
    "target = df.Label"
   ]
  },
  {
   "cell_type": "code",
   "execution_count": 27,
   "metadata": {},
   "outputs": [
    {
     "data": {
      "text/plain": [
       "0       \\n\\n\\n\\n\\n\\nExxact Announces GPU-Accelerated  ...\n",
       "1       \\n\\n\\n\\n\\n\\nHelix Reports Second Quarter 2009 ...\n",
       "2       \\n\\n\\n\\n\\n\\nPharmerit Expands Market Access Su...\n",
       "3       \\n\\n\\n\\n\\n\\nMeredith Invests In Future Of Vide...\n",
       "4       \\n\\n\\n\\n\\n\\nNet Lease REITs Becoming More Proa...\n",
       "                              ...                        \n",
       "3928    \\n\\n\\n\\n\\n\\nNews Highlights: Top Company News ...\n",
       "4831    \\n\\n\\n\\nCubic Completes Acquisition of Intific...\n",
       "4064    \\n\\n\\n\\n\\n\\nJustice League VR: The Complete Ex...\n",
       "3989    \\n\\n\\n\\n\\n\\nRed Lion Appoints New Executives t...\n",
       "4258    \\n\\n\\n\\n\\n\\nThe mass flow controller market is...\n",
       "Name: Content, Length: 6108, dtype: object"
      ]
     },
     "execution_count": 27,
     "metadata": {},
     "output_type": "execute_result"
    }
   ],
   "source": [
    "# data glance\n",
    "doc"
   ]
  },
  {
   "cell_type": "code",
   "execution_count": 28,
   "metadata": {},
   "outputs": [
    {
     "data": {
      "text/plain": [
       "0"
      ]
     },
     "execution_count": 28,
     "metadata": {},
     "output_type": "execute_result"
    }
   ],
   "source": [
    "# Missing values\n",
    "df.Content.isnull().sum()"
   ]
  },
  {
   "cell_type": "code",
   "execution_count": 29,
   "metadata": {},
   "outputs": [
    {
     "data": {
      "text/plain": [
       "1.0"
      ]
     },
     "execution_count": 29,
     "metadata": {},
     "output_type": "execute_result"
    }
   ],
   "source": [
    "# negetive/positive ratio  \n",
    "sum(target==0)/sum(target == 1)"
   ]
  },
  {
   "cell_type": "code",
   "execution_count": 30,
   "metadata": {},
   "outputs": [],
   "source": [
    "#tokenizing function -- removing punctuation and English stop words \n",
    "stop_words = set(stopwords.words('english'))\n",
    "tokenizer = RegexpTokenizer(r'\\w+')\n",
    "def tokenizing (text):\n",
    "    clean_text = re.sub(r'\\d+','',text.lower())\n",
    "    clean_text = re.sub(r'\\n', ' ', clean_text)\n",
    "    token = tokenizer.tokenize(clean_text)\n",
    "    clean_token  = []\n",
    "    for i in token:\n",
    "        if i not in stop_words and len(i)>2:\n",
    "            clean_token.append(i)\n",
    "    return clean_token"
   ]
  },
  {
   "cell_type": "code",
   "execution_count": 31,
   "metadata": {},
   "outputs": [],
   "source": [
    "#stemming function\n",
    "def stemming(text):\n",
    "    new_text = []\n",
    "    for i in text:\n",
    "        new_text.append(PorterStemmer().stem(i))\n",
    "    return new_text"
   ]
  },
  {
   "cell_type": "code",
   "execution_count": 32,
   "metadata": {
    "scrolled": true
   },
   "outputs": [
    {
     "data": {
      "text/plain": [
       "0       [exxact, announces, gpu, accelerated, deep, le...\n",
       "1       [helix, reports, second, quarter, results, wor...\n",
       "2       [pharmerit, expands, market, access, support, ...\n",
       "3       [meredith, invests, future, video, technology,...\n",
       "4       [net, lease, reits, becoming, proactive, asset...\n",
       "                              ...                        \n",
       "3928    [news, highlights, top, company, news, day, wo...\n",
       "4831    [cubic, completes, acquisition, intific, inc, ...\n",
       "4064    [justice, league, complete, experience, allows...\n",
       "3989    [red, lion, appoints, new, executives, support...\n",
       "4258    [mass, flow, controller, market, expected, gro...\n",
       "Name: Content, Length: 6108, dtype: object"
      ]
     },
     "execution_count": 32,
     "metadata": {},
     "output_type": "execute_result"
    }
   ],
   "source": [
    "doc = doc.map(tokenizing)\n",
    "doc"
   ]
  },
  {
   "cell_type": "code",
   "execution_count": 33,
   "metadata": {},
   "outputs": [
    {
     "data": {
      "text/plain": [
       "0       [exxact, announc, gpu, acceler, deep, learn, i...\n",
       "1       [helix, report, second, quarter, result, word,...\n",
       "2       [pharmerit, expand, market, access, support, a...\n",
       "3       [meredith, invest, futur, video, technolog, po...\n",
       "4       [net, leas, reit, becom, proactiv, asset, mana...\n",
       "                              ...                        \n",
       "3928    [news, highlight, top, compani, news, day, wor...\n",
       "4831    [cubic, complet, acquisit, intif, inc, strengt...\n",
       "4064    [justic, leagu, complet, experi, allow, user, ...\n",
       "3989    [red, lion, appoint, new, execut, support, cus...\n",
       "4258    [mass, flow, control, market, expect, grow, ca...\n",
       "Name: Content, Length: 6108, dtype: object"
      ]
     },
     "execution_count": 33,
     "metadata": {},
     "output_type": "execute_result"
    }
   ],
   "source": [
    "doc = doc.map(stemming)\n",
    "doc"
   ]
  },
  {
   "cell_type": "code",
   "execution_count": 34,
   "metadata": {},
   "outputs": [
    {
     "data": {
      "text/plain": [
       "0       1\n",
       "1       0\n",
       "2       0\n",
       "3       1\n",
       "4       0\n",
       "       ..\n",
       "3928    1\n",
       "4831    1\n",
       "4064    1\n",
       "3989    1\n",
       "4258    1\n",
       "Name: Label, Length: 6108, dtype: int64"
      ]
     },
     "execution_count": 34,
     "metadata": {},
     "output_type": "execute_result"
    }
   ],
   "source": [
    "target"
   ]
  },
  {
   "cell_type": "code",
   "execution_count": 77,
   "metadata": {},
   "outputs": [],
   "source": [
    "# sb = doc.apply(lambda x: \" \".join(x) )\n",
    "# target\n",
    "# dsb = pd.merge(sb,target,right_index=True, left_index =True)\n",
    "# dsb.columns = ['body', 'fake']\n",
    "# dsb.to_csv('train_for_fun.csv')"
   ]
  },
  {
   "cell_type": "code",
   "execution_count": 35,
   "metadata": {},
   "outputs": [],
   "source": [
    "# split train test \n",
    "X_train, X_test, y_train, y_test = train_test_split(doc,target,train_size=0.85,random_state = 300)"
   ]
  },
  {
   "cell_type": "code",
   "execution_count": 36,
   "metadata": {},
   "outputs": [
    {
     "data": {
      "text/plain": [
       "2026    [global, industri, robot, market, reach, billi...\n",
       "726     [counterflow, appoint, former, fireey, execut,...\n",
       "541     [twilio, bring, cloud, commun, window, azur, m...\n",
       "3029    [embed, world, word, march, newswir, prn, engl...\n",
       "121     [tavant, technolog, recogn, top, mortgag, tech...\n",
       "                              ...                        \n",
       "1749    [intuit, surgic, new, robot, system, get, fda,...\n",
       "1492    [interact, intellig, receiv, product, year, aw...\n",
       "4321    [stratacach, display, passeng, engag, solut, a...\n",
       "3326    [satisfi, lab, tap, jonathon, scott, head, pro...\n",
       "1233    [game, product, servic, acaji, new, name, new,...\n",
       "Name: Content, Length: 5191, dtype: object"
      ]
     },
     "execution_count": 36,
     "metadata": {},
     "output_type": "execute_result"
    }
   ],
   "source": [
    "X_train"
   ]
  },
  {
   "cell_type": "code",
   "execution_count": 37,
   "metadata": {},
   "outputs": [],
   "source": [
    "# Vectorizer\n",
    "X_train = X_train.apply(lambda x: \" \".join(x) )\n",
    "X_test = X_test.apply(lambda x: \" \".join(x) )\n",
    "cv = CountVectorizer(binary=True,token_pattern=r'\\b[^\\d\\W]+\\b')\n",
    "cv.fit(X_train)\n",
    "X_train_vec = cv.transform(X_train)\n",
    "X_test_vec = cv.transform(X_test)"
   ]
  },
  {
   "cell_type": "code",
   "execution_count": 38,
   "metadata": {},
   "outputs": [
    {
     "data": {
      "text/plain": [
       "<5191x56846 sparse matrix of type '<class 'numpy.int64'>'\n",
       "\twith 1400442 stored elements in Compressed Sparse Row format>"
      ]
     },
     "execution_count": 38,
     "metadata": {},
     "output_type": "execute_result"
    }
   ],
   "source": [
    "X_train_vec"
   ]
  },
  {
   "cell_type": "code",
   "execution_count": null,
   "metadata": {},
   "outputs": [],
   "source": [
    "#Do not run machine learning model on sparse matrix. \n",
    "#https://medium.com/@paritosh_30025/natural-language-processing-text-data-vectorization-af2520529cf7"
   ]
  },
  {
   "cell_type": "markdown",
   "metadata": {},
   "source": [
    "# Logistic Regression"
   ]
  },
  {
   "cell_type": "code",
   "execution_count": 39,
   "metadata": {
    "scrolled": true
   },
   "outputs": [
    {
     "name": "stdout",
     "output_type": "stream",
     "text": [
      "   C Accuracy Precision Recall F1Score\n",
      "0.01    72.1%     72.3%  72.2%   72.1%\n",
      "0.05    79.2%     79.7%  79.3%   79.1%\n",
      "0.25    81.9%     82.8%  82.1%   81.8%\n",
      " 0.5    82.2%     83.1%  82.4%   82.2%\n",
      "   1    82.3%     83.2%  82.5%   82.3%\n",
      "1.25    82.2%     83.1%  82.4%   82.2%\n",
      " 1.5    82.7%     83.4%  82.8%   82.6%\n",
      "   2    82.9%     83.6%  83.0%   82.8%\n",
      "   3    82.9%     83.6%  83.0%   82.8%\n"
     ]
    }
   ],
   "source": [
    "print(\"%4s %4s %4s %4s %4s\" %('C','Accuracy','Precision','Recall','F1Score'))\n",
    "for c in [0.01, 0.05, 0.25, 0.5, 1, 1.25, 1.5, 2, 3]:\n",
    "    lr = LogisticRegression(C=c,class_weight='balanced', max_iter=1000)\n",
    "    lr.fit(X_train_vec,y_train)\n",
    "    y_predict = lr.predict(X_test_vec)\n",
    "    accuracy = round(accuracy_score(y_test, y_predict)*100,1)\n",
    "    precision = round(precision_score(y_test, y_predict, average = 'macro')*100,1)\n",
    "    recall = round(recall_score(y_test, y_predict, average = 'macro')*100,1)\n",
    "    F1Score = round(f1_score(y_test, y_predict, average = 'macro')*100,1)\n",
    "    print(\"%4s %7s%% %8s%% %5s%% %6s%%\" %(c,accuracy,precision,recall,F1Score))"
   ]
  },
  {
   "cell_type": "markdown",
   "metadata": {},
   "source": [
    "# XGB"
   ]
  },
  {
   "cell_type": "code",
   "execution_count": 40,
   "metadata": {},
   "outputs": [],
   "source": [
    "import xgboost as xgb"
   ]
  },
  {
   "cell_type": "code",
   "execution_count": 41,
   "metadata": {},
   "outputs": [
    {
     "name": "stdout",
     "output_type": "stream",
     "text": [
      "Fitting 5 folds for each of 16 candidates, totalling 80 fits\n"
     ]
    },
    {
     "name": "stderr",
     "output_type": "stream",
     "text": [
      "[Parallel(n_jobs=4)]: Using backend LokyBackend with 4 concurrent workers.\n",
      "[Parallel(n_jobs=4)]: Done  42 tasks      | elapsed:  4.4min\n",
      "[Parallel(n_jobs=4)]: Done  80 out of  80 | elapsed:  4.7min finished\n"
     ]
    },
    {
     "name": "stdout",
     "output_type": "stream",
     "text": [
      "Wall time: 5min 5s\n"
     ]
    },
    {
     "data": {
      "text/plain": [
       "{'colsample_bytree': 1.0, 'subsample': 1.0}"
      ]
     },
     "execution_count": 41,
     "metadata": {},
     "output_type": "execute_result"
    }
   ],
   "source": [
    "%%time\n",
    "#tuning subsample colsample_bytree\n",
    "cv_params = {'subsample': [ 0.9, 1.0, 1.1, 1.2], 'colsample_bytree': [ 0.9, 1.0, 1.1, 1.2]}\n",
    "other_params = {\"n_estimators\":100, \"max_depth\":8, \"learning_rate\":0.1, \"subsample\":0.5, \"colsample_bytree\": 0.8}\n",
    "xgb = xgb.XGBClassifier(**other_params)\n",
    "opt_xgb = GridSearchCV(estimator = xgb, param_grid = cv_params, scoring=\"f1_macro\", cv=5, verbose=1, n_jobs=4)\n",
    "opt_xgb.fit(X_train_vec, y_train)\n",
    "opt_xgb.best_params_"
   ]
  },
  {
   "cell_type": "code",
   "execution_count": 31,
   "metadata": {},
   "outputs": [
    {
     "name": "stdout",
     "output_type": "stream",
     "text": [
      "Fitting 5 folds for each of 5 candidates, totalling 25 fits\n"
     ]
    },
    {
     "name": "stderr",
     "output_type": "stream",
     "text": [
      "[Parallel(n_jobs=4)]: Using backend LokyBackend with 4 concurrent workers.\n",
      "[Parallel(n_jobs=4)]: Done  25 out of  25 | elapsed:   42.2s finished\n"
     ]
    },
    {
     "name": "stdout",
     "output_type": "stream",
     "text": [
      "Wall time: 47.9 s\n"
     ]
    },
    {
     "data": {
      "text/plain": [
       "{'learning_rate': 0.1}"
      ]
     },
     "execution_count": 31,
     "metadata": {},
     "output_type": "execute_result"
    }
   ],
   "source": [
    "%%time\n",
    "#tuning learning_rate\n",
    "cv_params = {'learning_rate':[0.01, 0.05, 0.07, 0.1, 0.2]}\n",
    "other_params = {\"n_estimators\":100, \"max_depth\":8, \"learning_rate\":0.1, \"subsample\":0.9, \"colsample_bytree\": 0.9}\n",
    "xgb = xgb.XGBClassifier(**other_params)\n",
    "opt_xgb = GridSearchCV(estimator = xgb, param_grid = cv_params, scoring=\"f1_macro\", cv=5, verbose=1, n_jobs=4)\n",
    "opt_xgb.fit(X_train_vec, y_train)\n",
    "opt_xgb.best_params_"
   ]
  },
  {
   "cell_type": "code",
   "execution_count": 54,
   "metadata": {},
   "outputs": [
    {
     "name": "stdout",
     "output_type": "stream",
     "text": [
      "Fitting 5 folds for each of 6 candidates, totalling 30 fits\n"
     ]
    },
    {
     "name": "stderr",
     "output_type": "stream",
     "text": [
      "[Parallel(n_jobs=4)]: Using backend LokyBackend with 4 concurrent workers.\n",
      "[Parallel(n_jobs=4)]: Done  30 out of  30 | elapsed:  1.2min finished\n"
     ]
    },
    {
     "name": "stdout",
     "output_type": "stream",
     "text": [
      "Wall time: 1min 20s\n"
     ]
    },
    {
     "data": {
      "text/plain": [
       "{'max_depth': 45}"
      ]
     },
     "execution_count": 54,
     "metadata": {},
     "output_type": "execute_result"
    }
   ],
   "source": [
    "%%time\n",
    "import xgboost as xgb\n",
    "#tuning max_depth\n",
    "cv_params = {'max_depth': [43, 44, 45, 46, 47, 48]}\n",
    "other_params = {\"n_estimators\":100, \"max_depth\":8, \"learning_rate\":0.1, \"subsample\":0.9, \"colsample_bytree\": 0.9}\n",
    "xgb = xgb.XGBClassifier(**other_params)\n",
    "opt_xgb = GridSearchCV(estimator = xgb, param_grid = cv_params, scoring=\"f1_macro\", cv=5, verbose=1, n_jobs=4)\n",
    "opt_xgb.fit(X_train_vec, y_train)\n",
    "opt_xgb.best_params_"
   ]
  },
  {
   "cell_type": "code",
   "execution_count": 59,
   "metadata": {},
   "outputs": [
    {
     "name": "stdout",
     "output_type": "stream",
     "text": [
      "Fitting 5 folds for each of 4 candidates, totalling 20 fits\n"
     ]
    },
    {
     "name": "stderr",
     "output_type": "stream",
     "text": [
      "[Parallel(n_jobs=4)]: Using backend LokyBackend with 4 concurrent workers.\n",
      "[Parallel(n_jobs=4)]: Done  20 out of  20 | elapsed:   53.6s finished\n"
     ]
    },
    {
     "name": "stdout",
     "output_type": "stream",
     "text": [
      "Wall time: 1min 1s\n"
     ]
    },
    {
     "data": {
      "text/plain": [
       "{'n_estimators': 116}"
      ]
     },
     "execution_count": 59,
     "metadata": {},
     "output_type": "execute_result"
    }
   ],
   "source": [
    "%%time\n",
    "import xgboost as xgb\n",
    "# tuning n_estimators\n",
    "cv_params = {'n_estimators': [116,117,118,119]}\n",
    "other_params = {\"n_estimators\":100, \"max_depth\":45, \"learning_rate\":0.1, \"subsample\":0.9, \"colsample_bytree\": 0.9}\n",
    "xgb = xgb.XGBClassifier(**other_params)\n",
    "opt_xgb = GridSearchCV(estimator = xgb, param_grid = cv_params, scoring=\"f1_macro\", cv=5, verbose=1, n_jobs=4)\n",
    "opt_xgb.fit(X_train_vec, y_train)\n",
    "opt_xgb.best_params_"
   ]
  },
  {
   "cell_type": "code",
   "execution_count": 61,
   "metadata": {
    "scrolled": true
   },
   "outputs": [
    {
     "name": "stdout",
     "output_type": "stream",
     "text": [
      "Accuracy Precision Recall F1Score\n",
      "   84.5%     85.1%  84.4%   84.4%\n"
     ]
    }
   ],
   "source": [
    "import xgboost as xgb\n",
    "print(\"%4s %4s %4s %4s\" %('Accuracy','Precision','Recall','F1Score'))\n",
    "best_params = {\"n_estimators\":116, \"max_depth\":45, \"learning_rate\":0.1, \"subsample\":0.9, \"colsample_bytree\": 0.9}\n",
    "xgb = xgb.XGBClassifier(**best_params)\n",
    "xgb.fit(X_train_vec, y_train)\n",
    "y_predict = xgb.predict(X_test_vec)\n",
    "accuracy = round(accuracy_score(y_test, y_predict)*100,1)\n",
    "precision = round(precision_score(y_test, y_predict, average = 'macro')*100,1)\n",
    "recall = round(recall_score(y_test, y_predict, average = 'macro')*100,1)\n",
    "F1Score = round(f1_score(y_test, y_predict, average = 'macro')*100,1)\n",
    "print(\"%7s%% %8s%% %5s%% %6s%%\" %(accuracy,precision,recall,F1Score))"
   ]
  },
  {
   "cell_type": "markdown",
   "metadata": {},
   "source": [
    "# Random forest"
   ]
  },
  {
   "cell_type": "code",
   "execution_count": 62,
   "metadata": {},
   "outputs": [
    {
     "name": "stdout",
     "output_type": "stream",
     "text": [
      "   82.7%     83.4%  82.5%   82.5%\n"
     ]
    }
   ],
   "source": [
    "forest = RandomForestClassifier()\n",
    "forest.fit(X_train_vec, y_train)\n",
    "y_predict = forest.predict(X_test_vec)\n",
    "accuracy = round(accuracy_score(y_test, y_predict)*100,1)\n",
    "precision = round(precision_score(y_test, y_predict, average = 'macro')*100,1)\n",
    "recall = round(recall_score(y_test, y_predict, average = 'macro')*100,1)\n",
    "F1Score = round(f1_score(y_test, y_predict, average = 'macro')*100,1)\n",
    "print(\"%7s%% %8s%% %5s%% %6s%%\" %(accuracy,precision,recall,F1Score))"
   ]
  },
  {
   "cell_type": "markdown",
   "metadata": {},
   "source": [
    "# Decision Tree"
   ]
  },
  {
   "cell_type": "code",
   "execution_count": 63,
   "metadata": {},
   "outputs": [
    {
     "name": "stdout",
     "output_type": "stream",
     "text": [
      "   80.2%     81.4%  80.0%   79.9%\n"
     ]
    }
   ],
   "source": [
    "tree = DecisionTreeClassifier()\n",
    "tree.fit(X_train_vec, y_train)\n",
    "y_predict = tree.predict(X_test_vec)\n",
    "accuracy = round(accuracy_score(y_test, y_predict)*100,1)\n",
    "precision = round(precision_score(y_test, y_predict, average = 'macro')*100,1)\n",
    "recall = round(recall_score(y_test, y_predict, average = 'macro')*100,1)\n",
    "F1Score = round(f1_score(y_test, y_predict, average = 'macro')*100,1)\n",
    "print(\"%7s%% %8s%% %5s%% %6s%%\" %(accuracy,precision,recall,F1Score))"
   ]
  },
  {
   "cell_type": "markdown",
   "metadata": {},
   "source": [
    "# svm"
   ]
  },
  {
   "cell_type": "code",
   "execution_count": 64,
   "metadata": {},
   "outputs": [
    {
     "name": "stdout",
     "output_type": "stream",
     "text": [
      "   80.0%     81.0%  79.9%   79.8%\n"
     ]
    }
   ],
   "source": [
    "svm = svm.SVC(kernel = \"linear\")\n",
    "svm.fit(X_train_vec, y_train)\n",
    "y_predict = svm.predict(X_test_vec)\n",
    "accuracy = round(accuracy_score(y_test, y_predict)*100,1)\n",
    "precision = round(precision_score(y_test, y_predict, average = 'macro')*100,1)\n",
    "recall = round(recall_score(y_test, y_predict, average = 'macro')*100,1)\n",
    "F1Score = round(f1_score(y_test, y_predict, average = 'macro')*100,1)\n",
    "print(\"%7s%% %8s%% %5s%% %6s%%\" %(accuracy,precision,recall,F1Score))"
   ]
  },
  {
   "cell_type": "markdown",
   "metadata": {},
   "source": [
    "# Feedforward Neural Networks"
   ]
  },
  {
   "cell_type": "code",
   "execution_count": 66,
   "metadata": {},
   "outputs": [
    {
     "name": "stdout",
     "output_type": "stream",
     "text": [
      "Model: \"sequential_1\"\n",
      "_________________________________________________________________\n",
      "Layer (type)                 Output Shape              Param #   \n",
      "=================================================================\n",
      "dense_4 (Dense)              (None, 256)               14513664  \n",
      "_________________________________________________________________\n",
      "activation_4 (Activation)    (None, 256)               0         \n",
      "_________________________________________________________________\n",
      "dropout_3 (Dropout)          (None, 256)               0         \n",
      "_________________________________________________________________\n",
      "dense_5 (Dense)              (None, 128)               32896     \n",
      "_________________________________________________________________\n",
      "activation_5 (Activation)    (None, 128)               0         \n",
      "_________________________________________________________________\n",
      "dropout_4 (Dropout)          (None, 128)               0         \n",
      "_________________________________________________________________\n",
      "dense_6 (Dense)              (None, 64)                8256      \n",
      "_________________________________________________________________\n",
      "activation_6 (Activation)    (None, 64)                0         \n",
      "_________________________________________________________________\n",
      "dropout_5 (Dropout)          (None, 64)                0         \n",
      "_________________________________________________________________\n",
      "dense_7 (Dense)              (None, 1)                 65        \n",
      "_________________________________________________________________\n",
      "activation_7 (Activation)    (None, 1)                 0         \n",
      "=================================================================\n",
      "Total params: 14,554,881\n",
      "Trainable params: 14,554,881\n",
      "Non-trainable params: 0\n",
      "_________________________________________________________________\n"
     ]
    }
   ],
   "source": [
    "model = Sequential()\n",
    "\n",
    "model.add(Dense(256,input_shape=(X_train_vec.shape[1],)))\n",
    "\n",
    "model.add(Activation('relu'))\n",
    "\n",
    "model.add(Dropout(0.2))\n",
    "\n",
    "model.add(Dense(128))\n",
    "\n",
    "model.add(Activation('relu'))\n",
    "\n",
    "model.add(Dropout(0.2))\n",
    "\n",
    "model.add(Dense(64))\n",
    "\n",
    "model.add(Activation('relu'))\n",
    "\n",
    "model.add(Dropout(0.5))\n",
    "\n",
    "model.add(Dense(1))\n",
    "\n",
    "model.add(Activation('sigmoid'))\n",
    "\n",
    "model.compile(loss='binary_crossentropy', optimizer='adadelta', metrics=['accuracy'])\n",
    "\n",
    "model.summary()"
   ]
  },
  {
   "cell_type": "code",
   "execution_count": 87,
   "metadata": {},
   "outputs": [
    {
     "name": "stdout",
     "output_type": "stream",
     "text": [
      "Train on 4938 samples, validate on 872 samples\n",
      "4938/4938 [==============================] - 6s 1ms/sample - loss: 0.1035 - accuracy: 0.9832 - val_loss: 0.4877 - val_accuracy: 0.8085\n",
      "Large CNN Error: 19.15%\n",
      "   80.8%     81.4%  80.7%   80.7%\n"
     ]
    }
   ],
   "source": [
    "history = model.fit(X_train_vec.toarray(), y_train, validation_data=(X_test_vec.toarray(), y_test), epochs=1, batch_size=200)\n",
    "\n",
    "scores = model.evaluate(X_test_vec.toarray(), y_test, verbose=0)\n",
    "\n",
    "print(\"Large CNN Error: %.2f%%\" % (100-scores[1]*100))\n",
    "\n",
    "y_predict = model.predict_classes(X_test_vec.toarray(), batch_size=50)\n",
    "\n",
    "accuracy = round(accuracy_score(y_test, y_predict)*100,1)\n",
    "precision = round(precision_score(y_test, y_predict, average = 'macro')*100,1)\n",
    "recall = round(recall_score(y_test, y_predict, average = 'macro')*100,1)\n",
    "F1Score = round(f1_score(y_test, y_predict, average = 'macro')*100,1)\n",
    "print(\"%7s%% %8s%% %5s%% %6s%%\" %(accuracy,precision,recall,F1Score))\n"
   ]
  },
  {
   "cell_type": "code",
   "execution_count": 84,
   "metadata": {},
   "outputs": [
    {
     "data": {
      "image/png": "[encoded data removed]",
      "text/plain": [
       "<Figure size 432x288 with 1 Axes>"
      ]
     },
     "metadata": {
      "needs_background": "light"
     },
     "output_type": "display_data"
    }
   ],
   "source": [
    "plt.plot(history.history['accuracy'])\n",
    "plt.plot(history.history['val_accuracy'])\n",
    "plt.title('model accuracy')\n",
    "plt.ylabel('accuracy')\n",
    "plt.xlabel('epoch')\n",
    "plt.legend(['accuracy', 'val_accuracy'], loc='upper left')\n",
    "plt.show()"
   ]
  },
  {
   "cell_type": "code",
   "execution_count": 85,
   "metadata": {},
   "outputs": [
    {
     "data": {
      "image/png": "[encoded data removed]",
      "text/plain": [
       "<Figure size 432x288 with 1 Axes>"
      ]
     },
     "metadata": {
      "needs_background": "light"
     },
     "output_type": "display_data"
    }
   ],
   "source": [
    "plt.plot(history.history['loss'])\n",
    "plt.plot(history.history['val_loss'])\n",
    "plt.title('model loss')\n",
    "plt.ylabel('loss')\n",
    "plt.xlabel('epoch')\n",
    "plt.legend(['loss', 'val_loss'], loc='upper left')\n",
    "plt.show()"
   ]
  },
  {
   "cell_type": "code",
   "execution_count": null,
   "metadata": {},
   "outputs": [],
   "source": []
  }
 ],
 "metadata": {
  "kernelspec": {
   "display_name": "Python 3",
   "language": "python",
   "name": "python3"
  },
  "language_info": {
   "codemirror_mode": {
    "name": "ipython",
    "version": 3
   },
   "file_extension": ".py",
   "mimetype": "text/x-python",
   "name": "python",
   "nbconvert_exporter": "python",
   "pygments_lexer": "ipython3",
   "version": "3.8.3"
  }
 },
 "nbformat": 4,
 "nbformat_minor": 2
}
